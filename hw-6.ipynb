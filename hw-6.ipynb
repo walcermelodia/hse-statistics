{
 "cells": [
  {
   "cell_type": "markdown",
   "source": [
    "# Вариант 7. Распределение Пуассона."
   ],
   "metadata": {
    "collapsed": false,
    "pycharm": {
     "name": "#%% md\n"
    }
   }
  },
  {
   "cell_type": "markdown",
   "source": [
    "Оценка $\\hat{\\theta}_n = \\overline{x} \\exp^{-\\overline{x}} $"
   ],
   "metadata": {
    "collapsed": false,
    "pycharm": {
     "name": "#%% md\n"
    }
   }
  },
  {
   "cell_type": "markdown",
   "source": [
    "## Состоятельность\n",
    "\n",
    "Для параметра $\\theta$ состоятельной оценкой будет $\\overline{x}$. Рассмотрим непрерывную функцию $f(x) = x e^{-x}$. $\\overline{x} \\xrightarrow[n \\rightarrow \\infty]{p} \\theta$ и $e^{-\\overline{x}}  \\xrightarrow[n \\rightarrow \\infty]{p} e^{-\\theta}$. Тогда ссылаясь на известное утверждение(забыл как называется) $\\overline{x} e^{-\\overline{x}} \\xrightarrow[n \\rightarrow \\infty]{p} \\theta e^{-\\theta} $"
   ],
   "metadata": {
    "collapsed": false,
    "pycharm": {
     "name": "#%% md\n"
    }
   }
  },
  {
   "cell_type": "markdown",
   "source": [
    "## Моделирование состоятельности"
   ],
   "metadata": {
    "collapsed": false,
    "pycharm": {
     "name": "#%% md\n"
    }
   }
  },
  {
   "cell_type": "markdown",
   "source": [
    "Рассмотрим случайную величину $\\xi = \\overline{x} e^{- \\overline{x}} + \\hat{\\theta}_n$, где $\\zeta \\in P(\\theta)$. Воспользуемся неравенством Маркова и получим\n",
    "\n",
    "Для любого $\\varepsilon > 0$: $P(|\\xi| >= \\varepsilon) <= \\dfrac{E|\\xi|}{\\varepsilon}$"
   ],
   "metadata": {
    "collapsed": false,
    "pycharm": {
     "name": "#%% md\n"
    }
   }
  },
  {
   "cell_type": "code",
   "execution_count": null,
   "metadata": {
    "collapsed": true,
    "pycharm": {
     "name": "#%%\n"
    }
   },
   "outputs": [],
   "source": [
    "не смог придумать как обыграть неравенство чтобы в лоб не моделировать("
   ]
  },
  {
   "cell_type": "markdown",
   "source": [
    "## Асимптотическая несмещенность\n",
    "\n",
    "$  E\\hat{\\theta}_n = \\sum\\limits_{k = 0}^{\\infty} \\dfrac{k}{n} e^{-\\dfrac{k}{n}} \\dfrac{(n\\theta)^k}{k!} e^{-n\\theta} = \\dfrac{e^{-n\\theta}}{n} \\sum\\limits_{k = 1}{\\infty} \\dfrac{(n\\theta e^{-\\frac{1}{n}})^k}{(k - 1!)} = \\theta e^{n\\theta (e^{-1/n}) - 1/n} \\xrightarrow[n \\rightarrow \\infty]{} 0$"
   ],
   "metadata": {
    "collapsed": false,
    "pycharm": {
     "name": "#%% md\n"
    }
   }
  }
 ],
 "metadata": {
  "kernelspec": {
   "display_name": "Python 3",
   "language": "python",
   "name": "python3"
  },
  "language_info": {
   "codemirror_mode": {
    "name": "ipython",
    "version": 2
   },
   "file_extension": ".py",
   "mimetype": "text/x-python",
   "name": "python",
   "nbconvert_exporter": "python",
   "pygments_lexer": "ipython2",
   "version": "2.7.6"
  }
 },
 "nbformat": 4,
 "nbformat_minor": 0
}