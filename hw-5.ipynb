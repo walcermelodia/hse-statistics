{
 "cells": [
  {
   "cell_type": "markdown",
   "source": [
    "# Моделирование сходимости эмпирической функции распределения к теоретической функции распределения"
   ],
   "metadata": {
    "collapsed": false,
    "pycharm": {
     "name": "#%% md\n"
    }
   }
  },
  {
   "cell_type": "code",
   "execution_count": 2,
   "outputs": [],
   "source": [
    "from typing import NoReturn\n",
    "from typing import Callable\n",
    "import random"
   ],
   "metadata": {
    "collapsed": false,
    "pycharm": {
     "name": "#%%\n"
    }
   }
  },
  {
   "cell_type": "code",
   "execution_count": 4,
   "outputs": [],
   "source": [
    "def check_convergence_by_probability(\n",
    "        random_variable: Callable,\n",
    "        distribution_func: Callable,\n",
    "        eps: float,\n",
    "        delta: float\n",
    ") -> NoReturn:\n",
    "    sample = []\n",
    "    x_i = random_variable(random.uniform(0.0, 1.0))\n",
    "    sample.append(x_i)\n",
    "\n",
    "    n = 1\n",
    "    probability_estimation = distribution_func(x_i) * (1 - distribution_func(x_i)) / (n * eps * eps)\n",
    "    while abs(probability_estimation) >= delta:\n",
    "        x_i = random_variable(random.uniform(0.0, 1.0))\n",
    "        sample.append(x_i)\n",
    "        n += 1\n",
    "        probability_estimation = distribution_func(x_i) * (1 - distribution_func(x_i)) / (n * eps * eps)\n",
    "\n",
    "    print(f'Empirical distribution function converged in probability to the theoretical when n is more {n}')"
   ],
   "metadata": {
    "collapsed": false,
    "pycharm": {
     "name": "#%%\n"
    }
   }
  },
  {
   "cell_type": "markdown",
   "source": [
    "## Пример с непрерывным равномерным распределением"
   ],
   "metadata": {
    "collapsed": false,
    "pycharm": {
     "name": "#%% md\n"
    }
   }
  },
  {
   "cell_type": "code",
   "execution_count": 5,
   "outputs": [
    {
     "name": "stdout",
     "output_type": "stream",
     "text": [
      "Empirical distribution function converged in probability to the theoretical when n is more 8\n"
     ]
    }
   ],
   "source": [
    "a = 2\n",
    "b = 5\n",
    "random_var = lambda x: (b - a) * x + a\n",
    "distribution_func = lambda x: (x - a) / (b - a)\n",
    "\n",
    "eps = 0.2\n",
    "delta = 0.1\n",
    "check_convergence_by_probability(random_var, distribution_func, eps, delta)"
   ],
   "metadata": {
    "collapsed": false,
    "pycharm": {
     "name": "#%%\n"
    }
   }
  },
  {
   "cell_type": "code",
   "execution_count": null,
   "outputs": [],
   "source": [],
   "metadata": {
    "collapsed": false,
    "pycharm": {
     "name": "#%%\n"
    }
   }
  }
 ],
 "metadata": {
  "kernelspec": {
   "display_name": "Python 3",
   "language": "python",
   "name": "python3"
  },
  "language_info": {
   "codemirror_mode": {
    "name": "ipython",
    "version": 2
   },
   "file_extension": ".py",
   "mimetype": "text/x-python",
   "name": "python",
   "nbconvert_exporter": "python",
   "pygments_lexer": "ipython2",
   "version": "2.7.6"
  }
 },
 "nbformat": 4,
 "nbformat_minor": 0
}